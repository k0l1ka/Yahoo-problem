{
  "nbformat": 4,
  "nbformat_minor": 0,
  "metadata": {
    "colab": {
      "name": "Spag.ipynb",
      "provenance": [],
      "collapsed_sections": []
    },
    "kernelspec": {
      "name": "python3",
      "display_name": "Python 3"
    }
  },
  "cells": [
    {
      "cell_type": "code",
      "metadata": {
        "id": "sPeA6j7gDlEE",
        "colab_type": "code",
        "colab": {}
      },
      "source": [
        "import numpy as np\n",
        "import pandas as pd\n",
        "from matplotlib import pyplot as plt\n",
        "import multiprocessing as mp\n",
        "from scipy.optimize import fmin_l_bfgs_b\n",
        "from tqdm import tqdm\n",
        "import decimal\n",
        "%matplotlib inline\n",
        "D = decimal.Decimal"
      ],
      "execution_count": 0,
      "outputs": []
    },
    {
      "cell_type": "markdown",
      "metadata": {
        "id": "VYt-rPqMpS2A",
        "colab_type": "text"
      },
      "source": [
        "#Эти параметры относятся к конкретному датасету RCV\n"
      ]
    },
    {
      "cell_type": "code",
      "metadata": {
        "id": "K-VmdAM6pXCw",
        "colab_type": "code",
        "colab": {}
      },
      "source": [
        "number_of_features = 47236\n",
        "number_of_objects = 20242\n",
        "# number_of_objects = 5000\n",
        "server_data_file = 'server_data_sampled.txt'\n",
        "train_data_file = 'rcv1_train.txt'\n",
        "test_data_file = 'rcv1_test'"
      ],
      "execution_count": 0,
      "outputs": []
    },
    {
      "cell_type": "markdown",
      "metadata": {
        "id": "NGk_h0LOo_nM",
        "colab_type": "text"
      },
      "source": [
        "#Вспомогательные функции и алгоритм метода\n",
        "\n",
        "\n",
        "    1 - Надо переписать функцию phi чтобы ела массив точек вместо одной\n",
        "    2 - убрать костыль с ограничением на число читаемых строк\n"
      ]
    },
    {
      "cell_type": "code",
      "metadata": {
        "colab_type": "code",
        "id": "Zsusvv92cwan",
        "colab": {}
      },
      "source": [
        "\n",
        "def logit(z):\n",
        "    return 1 / (1 + np.exp( (-1) * z) )\n",
        "\n",
        "def quad_eq_roots(a,b,c):\n",
        "    d = (b**2) - (4*a*c)\n",
        "    sol1 = ((-1) * b - np.sqrt(d)) / (2 * a)\n",
        "    sol2 = ((-1) * b + np.sqrt(d)) / (2 * a)\n",
        "    if sol2 > sol1:\n",
        "        if sol2 <= 0:\n",
        "            print('oh J - 1') \n",
        "        return sol2\n",
        "    else:\n",
        "        if sol1 <= 0:\n",
        "            print('oh J - 2') \n",
        "        return sol1\n",
        "\n",
        "def l(x, y, a, Lambda):\n",
        "    return float( (1 + D( (-1) * y * (x @ a) ).exp() ).ln() ) + 0.5 * Lambda *  np.linalg.norm(x)**2\n",
        "    \n",
        "\n",
        "def grad_l(x, y, a, Lambda):\n",
        "    d = D( (-1) * y * (x @ a) ).exp() \n",
        "    return Lambda * x + float(d / (1 + d)) * (-1) * y * a\n",
        "\n",
        "\n",
        "def f_and_grad_f(x, data_file, Lambda):\n",
        "    func = 0\n",
        "    grad_f = np.zeros(number_of_features)\n",
        "    num_lines = 0\n",
        "    with open(data_file, 'r') as f:     \n",
        "        for line in f:\n",
        "            num_lines += 1\n",
        "            a = np.zeros(number_of_features)\n",
        "            for i, item in enumerate(line.split(' ')):\n",
        "                if i != 0:\n",
        "                    a[int(item.split(':')[0]) - 1] = float(item.split(':')[1])\n",
        "                else:\n",
        "                    y = int(item)\n",
        "            one_point_loss = l(x, y, a, Lambda)\n",
        "            func += one_point_loss\n",
        "            one_point_grad_loss = grad_l(x, y, a, Lambda)\n",
        "            grad_f += one_point_grad_loss\n",
        "    return func / num_lines , grad_f / num_lines\n",
        "\n",
        "\n",
        "def phi_and_grad_phi(x, Lambda):\n",
        "    f, grad_f = f_and_grad_f(x, server_data_file, Lambda)\n",
        "    phi = f + 0.5 * Mu * (np.linalg.norm(x))**2\n",
        "    grad_phi = grad_f + Mu * x\n",
        "    return phi, grad_phi\n",
        "\n",
        "\n",
        "def V_and_grad_V(x, grad_F, eta, beta, v, y, Lambda):\n",
        "    phi_x, grad_phi_x = phi_and_grad_phi(x, Lambda)\n",
        "    phi_y, grad_phi_y = phi_and_grad_phi(y, Lambda)\n",
        "    phi_v, grad_phi_v = phi_and_grad_phi(v, Lambda)\n",
        "\n",
        "    V = eta * grad_F @ x + (1 - beta) * (phi_x - phi_v - grad_phi_v @ (x-v) ) + beta * (phi_x - phi_y - grad_phi_y @ (x-y) )\n",
        "    grad_V = eta * grad_F + grad_phi_x - beta * grad_phi_y - (1 - beta) * grad_phi_v\n",
        "    return V, grad_V \n",
        "\n",
        "\n",
        "def SPAG(L, sigma, num_iter):\n",
        "    x = np.empty([num_iter + 1, number_of_features])\n",
        "\n",
        "    print('start local min')\n",
        "    x_start, f_at_x_start, info = fmin_l_bfgs_b(func= f_and_grad_f, x0= np.zeros(number_of_features), fprime= None, \n",
        "                                           args= [server_data_file, Lambda], approx_grad= False, \n",
        "                                           bounds= [(None, None)] * number_of_features, maxiter= 20)\n",
        "    print('end local min')\n",
        "\n",
        "    x[0] = x_start\n",
        "    v = x[0]\n",
        "    A = 0\n",
        "    B = 1\n",
        "    G = 1\n",
        "\n",
        "    with mp.Pool(processes = num_machines) as pool: \n",
        "        for t in range(num_iter):           \n",
        "            print('iteration ', t)   \n",
        "            G = 0.5 * max(1, 0.5 * G)\n",
        "            #тут начинается цикл repeat .. until \n",
        "            \n",
        "            print('round 0')\n",
        "            \n",
        "            G = 2 * G\n",
        "            a = quad_eq_roots(sigma - L * G, sigma * A + B, A * B)\n",
        "            A = A + a\n",
        "            B = B + a * sigma\n",
        "            alpha = a / A \n",
        "            beta = a / B * sigma\n",
        "            eta = a / B\n",
        "\n",
        "            y = ( (1 - alpha) * x[t] + alpha * (1 - beta) * v ) / (1 - alpha * beta)\n",
        "            \n",
        "            print('начал градиент паралллельно')\n",
        "            # Распараллеливание вычисления градиента\n",
        "            results = pool.starmap_async(f_and_grad_f, [(y, 'data_' + str(n+1) + '.txt', Lambda) for n in range(num_machines)])\n",
        "            funcs_and_grads = results.get()\n",
        "\n",
        "            grad_F_at_y = 0\n",
        "            for item in funcs_and_grads:\n",
        "                grad_F_at_y += item[1]\n",
        "            grad_F_at_y = grad_F_at_y / num_machines\n",
        "            print('закончил градиент паралллельно')\n",
        "    \n",
        "            print('начал min V')\n",
        "            v_next, min_V_t, info_V = fmin_l_bfgs_b(func= V_and_grad_V, x0= v, fprime= None, args= [grad_F_at_y, eta, beta, v, y, Lambda], \n",
        "                                                approx_grad= False, bounds= [(None, None)] * number_of_features, maxiter= 5)\n",
        "            x[t+1] = (1 - alpha) * x[t] + alpha * v_next\n",
        "            print('кончил min V ')\n",
        "\n",
        "            #Проверка условия на продолжение цикла repeat .. until\n",
        "            phi_x, grad_phi_x = phi_and_grad_phi(x[t+1], Lambda)\n",
        "            phi_y, grad_phi_y = phi_and_grad_phi(y, Lambda)\n",
        "            phi_v, grad_phi_v = phi_and_grad_phi(v, Lambda)\n",
        "            phi_v_next, grad_phi_v_next = phi_and_grad_phi(v_next, Lambda)\n",
        "            \n",
        "            D_phi_at_x_y = phi_x - phi_y - grad_phi_y @ (x[t+1] - y)\n",
        "            D_phi_at_v_next_v = phi_v_next - phi_v - grad_phi_v @ (v_next - v)\n",
        "            D_phi_at_v_next_y = phi_v_next - phi_y - grad_phi_y @ (v_next - y)\n",
        "\n",
        "            condition = D_phi_at_x_y <= alpha**2 * G * ( (1 - beta) * D_phi_at_v_next_v + beta * D_phi_at_v_next_y ) \n",
        "            \n",
        "            print('end round 0')\n",
        "            rount = 0\n",
        "            \n",
        "            while not condition:\n",
        "                rount += 1\n",
        "                print('round ', rount)\n",
        "                \n",
        "                G = 2 * G\n",
        "                a = quad_eq_roots(sigma - L * G, sigma * A + B, A * B)\n",
        "                A = A + a\n",
        "                B = B + a * sigma\n",
        "                alpha = a / A \n",
        "                beta = a / B * sigma\n",
        "                eta = a / B\n",
        "\n",
        "                y = ( (1 - alpha) * x[t] + alpha * (1 - beta) * v ) / (1 - alpha * beta)\n",
        "                \n",
        "                print('начал градиент паралллельно')\n",
        "                # Распараллеливание вычисления градиента\n",
        "                results = pool.starmap_async(f_and_grad_f, [(y, 'data_' + str(n+1) + '.txt', Lambda) for n in range(num_machines)])\n",
        "                funcs_and_grads = results.get()\n",
        "\n",
        "                grad_F_at_y = 0\n",
        "                for item in funcs_and_grads:\n",
        "                    grad_F_at_y += item[1]\n",
        "                grad_F_at_y = grad_F_at_y / num_machines\n",
        "                print('закончил градиент паралллельно')\n",
        "        \n",
        "                print('начал min V')\n",
        "                v_next, min_V_t, info_V = fmin_l_bfgs_b(func= V_and_grad_V, x0= v, fprime= None, args= [grad_F_at_y, eta, beta, v, y, Lambda], \n",
        "                                                    approx_grad= False, bounds= [(None, None)] * number_of_features, maxiter= 5)\n",
        "                x[t+1] = (1 - alpha) * x[t] + alpha * v_next\n",
        "                print('кончил min V')\n",
        "\n",
        "                #Проверка условия на продолжение цикла repeat .. until\n",
        "                phi_x, grad_phi_x = phi_and_grad_phi(x[t+1], Lambda)\n",
        "                phi_y, grad_phi_y = phi_and_grad_phi(y, Lambda)\n",
        "                phi_v, grad_phi_v = phi_and_grad_phi(v, Lambda)\n",
        "                phi_v_next, grad_phi_v_next = phi_and_grad_phi(v_next, Lambda)\n",
        "                \n",
        "                D_phi_at_x_y = phi_x - phi_y - grad_phi_y @ (x[t+1] - y)\n",
        "                D_phi_at_v_next_v = phi_v_next - phi_v - grad_phi_v @ (v_next - v)\n",
        "                D_phi_at_v_next_y = phi_v_next - phi_y - grad_phi_y @ (v_next - y)\n",
        "\n",
        "                condition = D_phi_at_x_y <= alpha**2 * G * ( (1 - beta) * D_phi_at_v_next_v + beta * D_phi_at_v_next_y ) \n",
        "                            \n",
        "                print('end round ', rount)\n",
        "\n",
        "            # print('x = {} , y = {} , v = {} , v_next = {}'.format(x[t+1], y, v, v_next))\n",
        "\n",
        "            v = v_next\n",
        "    return x\n",
        "\n",
        "\n",
        "    \n",
        "def indices_for_server(number_to_sample):\n",
        "    labels = []\n",
        "    with open(train_data_file, 'r') as f:     \n",
        "        for i, line in enumerate(f):\n",
        "            if i < number_of_objects:\n",
        "                labels.append( int(line.split(' ')[0]) )\n",
        "    labels = np.array(labels)\n",
        "    indices_of_ones = np.where(labels == 1)[0]\n",
        "    num_ones_total = len(indices_of_ones)\n",
        "    num_ones_server = round(num_ones_total / number_of_objects * number_to_sample)\n",
        "    np.random.shuffle(indices_of_ones)\n",
        "    ones_for_server = indices_of_ones[0:int(num_ones_server - 1)]\n",
        "\n",
        "    indices_of_minus_ones = np.where(labels == -1)[0]\n",
        "    num_minus_ones_total = len(indices_of_minus_ones)\n",
        "    num_minus_ones_server = number_to_sample - num_ones_server\n",
        "    np.random.shuffle(indices_of_minus_ones)\n",
        "    minus_ones_for_server = indices_of_minus_ones[0:int(num_minus_ones_server - 1)]\n",
        "\n",
        "    server_indices = np.concatenate([ones_for_server, minus_ones_for_server])\n",
        "    return server_indices\n",
        "\n",
        "    # Порядковые номера строк для сервера с сохранением баланса классов и случайным выбором (порядок 1 -1)\n",
        "\n",
        "def F(x, data_file, Lambda):\n",
        "    func = 0\n",
        "    num_lines = 0\n",
        "    with open(data_file, 'r') as f:     \n",
        "        for line in f:\n",
        "            num_lines += 1\n",
        "            a = np.zeros(number_of_features)\n",
        "            for i, item in enumerate(line.split(' ')):\n",
        "                if i != 0:\n",
        "                    a[int(item.split(':')[0]) - 1] = float(item.split(':')[1])\n",
        "                else:\n",
        "                    y = int(item)\n",
        "            one_point_loss = l(x, y, a, Lambda)\n",
        "            func += one_point_loss\n",
        "    return func / num_lines\n",
        "\n",
        "\n",
        "    \n",
        "def accuracy(test_data, num_test_objects):\n",
        "    true_labels = []\n",
        "    with open(test_data, 'r') as f:     \n",
        "        for i, line in enumerate(f):\n",
        "            if i < test_objects:\n",
        "                true_labels.append( int(line.split(' ')[0]) )\n",
        "    "
      ],
      "execution_count": 0,
      "outputs": []
    },
    {
      "cell_type": "markdown",
      "metadata": {
        "id": "Jv6it36hSF7d",
        "colab_type": "text"
      },
      "source": [
        "#Разделение данных между машинами-работниками\n",
        "\n",
        "Данные каждой машины в кластере хранятся в своем файле"
      ]
    },
    {
      "cell_type": "code",
      "metadata": {
        "id": "HkwiIP5XDx0s",
        "colab_type": "code",
        "colab": {}
      },
      "source": [
        "def work_for_slaves():\n",
        "    total_num_lines = number_of_objects\n",
        "    parts_length = []\n",
        "    batch = total_num_lines // num_machines\n",
        "    rest = total_num_lines % num_machines\n",
        "\n",
        "    for _ in range(num_machines): \n",
        "        parts_length.append(batch)\n",
        "\n",
        "    for i in range(rest):\n",
        "        parts_length[i] += 1\n",
        "\n",
        "    with open(train_data_file, 'r') as f:    \n",
        "        for i in range(num_machines):\n",
        "            with open('data_' + str(i+1) + '.txt', 'w') as file_local:    \n",
        "                for _ in range(parts_length[i]):\n",
        "                    file_local.write(f.readline())"
      ],
      "execution_count": 0,
      "outputs": []
    },
    {
      "cell_type": "markdown",
      "metadata": {
        "id": "AOyLkI68pFw-",
        "colab_type": "text"
      },
      "source": [
        "Сервер получает равномерно случайно выбранные данные\n"
      ]
    },
    {
      "cell_type": "code",
      "metadata": {
        "id": "FXCDoOyepFQM",
        "colab_type": "code",
        "colab": {}
      },
      "source": [
        "def work_for_master(number_to_sample):\n",
        "    indices_to_select_for_server = indices_for_server(number_to_sample) \n",
        "\n",
        "    with open(train_data_file, 'r') as f:    \n",
        "        with open(server_data_file, 'w') as file_local:    \n",
        "            for i, line in enumerate(f):\n",
        "                if i in indices_to_select_for_server:\n",
        "                    file_local.write(line)"
      ],
      "execution_count": 0,
      "outputs": []
    },
    {
      "cell_type": "markdown",
      "metadata": {
        "id": "K3BAhEdAfsOb",
        "colab_type": "text"
      },
      "source": [
        "#График зависимости поточечно усредненной loss функции от номера итерации"
      ]
    },
    {
      "cell_type": "code",
      "metadata": {
        "id": "FQ63krKGSbmb",
        "colab_type": "code",
        "colab": {}
      },
      "source": [
        "def find_F_at_iters(x_at_iterations, Lambda):\n",
        "    y = []\n",
        "    count = 0\n",
        "    with mp.Pool(processes = num_machines) as pool:\n",
        "        for item in x_at_iterations:\n",
        "            count += 1\n",
        "            print('Point ', count)\n",
        "            result = pool.starmap_async(F, [(item, 'data_' + str(n+1) + '.txt', Lambda) for n in range(num_machines)])\n",
        "            loss_values = result.get()\n",
        "            y.append(sum(loss_values) / num_machines)\n",
        "    return y"
      ],
      "execution_count": 0,
      "outputs": []
    },
    {
      "cell_type": "code",
      "metadata": {
        "id": "TMVaG_srDz5s",
        "colab_type": "code",
        "colab": {}
      },
      "source": [
        "def plot_F_at_iters_and_log(lambd, mu, sampled_data, y):\n",
        "    x = range(iterations_number + 1)\n",
        "    plt.style.use('seaborn-whitegrid')\n",
        "    plt.plot(x, y, 'o', color='blue');\n",
        "    plt.title('Loss over iters')\n",
        "    plt.xlabel(f'$iter$')\n",
        "    plt.ylabel(f'$Loss$')\n",
        "    # plt.legend(['1e9 points'], frameon = True)\n",
        "    plt.savefig('sampled_' + str(sampled_data) + '_lambda_' + str(Lambda) + '_mu_' + str(Mu) +'.png')\n",
        "    print('sampled_' + str(sampled_data) + '_lambda_' + str(Lambda) + '_mu_' + str(Mu) +'.png')\n",
        "    plt.show()\n",
        "    plt.clf()\n",
        "    with open('plot_data_logs-1.txt', 'a') as f:      \n",
        "        f.write('sampled ' + str(sampled_data) + ' lambda ' + str(lambd) + ' mu ' + str(mu) + ' ' + \n",
        "                ' '.join(map(str, y)) + '\\n')"
      ],
      "execution_count": 0,
      "outputs": []
    },
    {
      "cell_type": "markdown",
      "metadata": {
        "id": "S0r7AURIf8VR",
        "colab_type": "text"
      },
      "source": [
        "#Гиперпараметры"
      ]
    },
    {
      "cell_type": "code",
      "metadata": {
        "id": "Oy7NtMETf4D7",
        "colab_type": "code",
        "outputId": "00ee98ce-84d3-4107-b137-74cf19cf1599",
        "colab": {
          "base_uri": "https://localhost:8080/",
          "height": 35
        }
      },
      "source": [
        "num_machines = 20\n",
        "sampled_vectors_at_server = number_of_objects // 10\n",
        "\n",
        "L_F_phi = 1\n",
        "Mu = 1e-5\n",
        "Lambda = 1e-7\n",
        "sigma_F_phi = Lambda / (Lambda + 2 * Mu)\n",
        "\n",
        "iterations_number = 19\n",
        "\n",
        "\n",
        "'''\n",
        "Lambda_s = [1e-4, 1e-5, 1e-6, 1e-7, 1e-8]\n",
        "Mu_s = [1e-4, 1e-5, 1e-6]\n",
        "grades = [35, 30, 25, 20, 15, 10]\n",
        "'''\n",
        "# Lambda_s = [1e-8]\n",
        "# Mu_s = [1e-6]\n",
        "# grades = [10]\n",
        "\n",
        "# sample_grade = 10"
      ],
      "execution_count": 0,
      "outputs": [
        {
          "output_type": "execute_result",
          "data": {
            "text/plain": [
              "'\\nLambda_s = [1e-4, 1e-5, 1e-6, 1e-7, 1e-8]\\nMu_s = [1e-4, 1e-5, 1e-6]\\ngrades = [35, 30, 25, 20, 15, 10]\\n'"
            ]
          },
          "metadata": {
            "tags": []
          },
          "execution_count": 20
        }
      ]
    },
    {
      "cell_type": "markdown",
      "metadata": {
        "id": "jYxd2adBoMGs",
        "colab_type": "text"
      },
      "source": [
        "#Один раз "
      ]
    },
    {
      "cell_type": "code",
      "metadata": {
        "id": "IXf-d0M138-B",
        "colab_type": "code",
        "colab": {}
      },
      "source": [
        "work_for_slaves()\n",
        "work_for_master(sampled_vectors_at_server)"
      ],
      "execution_count": 0,
      "outputs": []
    },
    {
      "cell_type": "markdown",
      "metadata": {
        "id": "HJOGzDtT15bR",
        "colab_type": "text"
      },
      "source": [
        "#Запуск по сетке\n",
        "\n"
      ]
    },
    {
      "cell_type": "code",
      "metadata": {
        "id": "N10-fTyWWQTf",
        "colab_type": "code",
        "colab": {}
      },
      "source": [
        "for Mu in Mu_s:\n",
        "    for Lambda in Lambda_s:\n",
        "        for sample_grade in grades:\n",
        "            sampled_vectors_at_server = number_of_objects // sample_grade\n",
        "            sigma_F_phi = Lambda / (Lambda + 2 * Mu)\n",
        "            work_for_master(sampled_vectors_at_server)\n",
        "            x_s = SPAG(L_F_phi, sigma_F_phi, iterations_number) \n",
        "            y_s = find_F_at_iters(x_s, Lambda)\n",
        "            plot_F_at_iters_and_log(Lambda, Mu, sampled_vectors_at_server, y_s)"
      ],
      "execution_count": 0,
      "outputs": []
    },
    {
      "cell_type": "markdown",
      "metadata": {
        "id": "TZQd5mbUSVGO",
        "colab_type": "text"
      },
      "source": [
        "#Применение Spag "
      ]
    },
    {
      "cell_type": "code",
      "metadata": {
        "id": "6NIVxYArSRwV",
        "colab_type": "code",
        "outputId": "22d0100b-f3d3-4453-ce08-49e64c472b61",
        "colab": {
          "base_uri": "https://localhost:8080/",
          "height": 1000
        }
      },
      "source": [
        "xxx_s = SPAG(L_F_phi, sigma_F_phi, iterations_number) \n",
        "ys_spag = find_F_at_iters(xxx_s, Lambda)"
      ],
      "execution_count": 0,
      "outputs": [
        {
          "output_type": "stream",
          "text": [
            "start local min\n",
            "end local min\n",
            "iteration  0\n",
            "round 0\n",
            "начал градиент паралллельно\n",
            "закончил градиент паралллельно\n",
            "начал min V\n",
            "кончил min V \n",
            "end round 0\n",
            "iteration  1\n",
            "round 0\n",
            "начал градиент паралллельно\n",
            "закончил градиент паралллельно\n",
            "начал min V\n",
            "кончил min V \n",
            "end round 0\n",
            "round  1\n",
            "начал градиент паралллельно\n",
            "закончил градиент паралллельно\n",
            "начал min V\n",
            "кончил min V\n",
            "end round  1\n",
            "iteration  2\n",
            "round 0\n",
            "начал градиент паралллельно\n",
            "закончил градиент паралллельно\n",
            "начал min V\n",
            "кончил min V \n",
            "end round 0\n",
            "iteration  3\n",
            "round 0\n",
            "начал градиент паралллельно\n",
            "закончил градиент паралллельно\n",
            "начал min V\n",
            "кончил min V \n",
            "end round 0\n",
            "iteration  4\n",
            "round 0\n",
            "начал градиент паралллельно\n",
            "закончил градиент паралллельно\n",
            "начал min V\n",
            "кончил min V \n",
            "end round 0\n",
            "iteration  5\n",
            "round 0\n",
            "начал градиент паралллельно\n",
            "закончил градиент паралллельно\n",
            "начал min V\n",
            "кончил min V \n",
            "end round 0\n",
            "iteration  6\n",
            "round 0\n",
            "начал градиент паралллельно\n",
            "закончил градиент паралллельно\n",
            "начал min V\n",
            "кончил min V \n",
            "end round 0\n",
            "iteration  7\n",
            "round 0\n",
            "начал градиент паралллельно\n",
            "закончил градиент паралллельно\n",
            "начал min V\n",
            "кончил min V \n",
            "end round 0\n",
            "iteration  8\n",
            "round 0\n",
            "начал градиент паралллельно\n",
            "закончил градиент паралллельно\n",
            "начал min V\n",
            "кончил min V \n",
            "end round 0\n",
            "round  1\n",
            "начал градиент паралллельно\n",
            "закончил градиент паралллельно\n",
            "начал min V\n",
            "кончил min V\n",
            "end round  1\n",
            "iteration  9\n",
            "round 0\n",
            "начал градиент паралллельно\n",
            "закончил градиент паралллельно\n",
            "начал min V\n",
            "кончил min V \n",
            "end round 0\n",
            "round  1\n",
            "начал градиент паралллельно\n",
            "закончил градиент паралллельно\n",
            "начал min V\n",
            "кончил min V\n",
            "end round  1\n",
            "iteration  10\n",
            "round 0\n",
            "начал градиент паралллельно\n",
            "закончил градиент паралллельно\n",
            "начал min V\n",
            "кончил min V \n",
            "end round 0\n",
            "round  1\n",
            "начал градиент паралллельно\n",
            "закончил градиент паралллельно\n",
            "начал min V\n",
            "кончил min V\n",
            "end round  1\n",
            "iteration  11\n",
            "round 0\n",
            "начал градиент паралллельно\n",
            "закончил градиент паралллельно\n",
            "начал min V\n",
            "кончил min V \n",
            "end round 0\n",
            "round  1\n",
            "начал градиент паралллельно\n",
            "закончил градиент паралллельно\n",
            "начал min V\n",
            "кончил min V\n",
            "end round  1\n",
            "iteration  12\n",
            "round 0\n",
            "начал градиент паралллельно\n",
            "закончил градиент паралллельно\n",
            "начал min V\n",
            "кончил min V \n",
            "end round 0\n",
            "round  1\n",
            "начал градиент паралллельно\n",
            "закончил градиент паралллельно\n",
            "начал min V\n",
            "кончил min V\n",
            "end round  1\n",
            "round  2\n",
            "начал градиент паралллельно\n",
            "закончил градиент паралллельно\n",
            "начал min V\n",
            "кончил min V\n",
            "end round  2\n",
            "iteration  13\n",
            "round 0\n",
            "начал градиент паралллельно\n",
            "закончил градиент паралллельно\n",
            "начал min V\n",
            "кончил min V \n",
            "end round 0\n",
            "iteration  14\n",
            "round 0\n",
            "начал градиент паралллельно\n",
            "закончил градиент паралллельно\n",
            "начал min V\n",
            "кончил min V \n",
            "end round 0\n",
            "round  1\n",
            "начал градиент паралллельно\n",
            "закончил градиент паралллельно\n",
            "начал min V\n",
            "кончил min V\n",
            "end round  1\n",
            "iteration  15\n",
            "round 0\n",
            "начал градиент паралллельно\n",
            "закончил градиент паралллельно\n",
            "начал min V\n",
            "кончил min V \n",
            "end round 0\n",
            "round  1\n",
            "начал градиент паралллельно\n",
            "закончил градиент паралллельно\n",
            "начал min V\n",
            "кончил min V\n",
            "end round  1\n",
            "round  2\n",
            "начал градиент паралллельно\n",
            "закончил градиент паралллельно\n",
            "начал min V\n",
            "кончил min V\n",
            "end round  2\n",
            "iteration  16\n",
            "round 0\n",
            "начал градиент паралллельно\n",
            "закончил градиент паралллельно\n",
            "начал min V\n",
            "кончил min V \n",
            "end round 0\n",
            "iteration  17\n",
            "round 0\n",
            "начал градиент паралллельно\n",
            "закончил градиент паралллельно\n",
            "начал min V\n",
            "кончил min V \n",
            "end round 0\n",
            "round  1\n",
            "начал градиент паралллельно\n",
            "закончил градиент паралллельно\n",
            "начал min V\n",
            "кончил min V\n",
            "end round  1\n",
            "iteration  18\n",
            "round 0\n",
            "начал градиент паралллельно\n",
            "закончил градиент паралллельно\n",
            "начал min V\n",
            "кончил min V \n",
            "end round 0\n",
            "round  1\n",
            "начал градиент паралллельно\n",
            "закончил градиент паралллельно\n",
            "начал min V\n",
            "кончил min V\n",
            "end round  1\n",
            "Point  1\n",
            "Point  2\n",
            "Point  3\n",
            "Point  4\n",
            "Point  5\n",
            "Point  6\n",
            "Point  7\n",
            "Point  8\n",
            "Point  9\n",
            "Point  10\n",
            "Point  11\n",
            "Point  12\n",
            "Point  13\n",
            "Point  14\n",
            "Point  15\n",
            "Point  16\n",
            "Point  17\n",
            "Point  18\n",
            "Point  19\n",
            "Point  20\n"
          ],
          "name": "stdout"
        }
      ]
    },
    {
      "cell_type": "markdown",
      "metadata": {
        "id": "T_8SQTJogZuz",
        "colab_type": "text"
      },
      "source": [
        "#Другие методы оптимизации"
      ]
    },
    {
      "cell_type": "markdown",
      "metadata": {
        "colab_type": "text",
        "id": "x1diSfLUFkrH"
      },
      "source": [
        "##Применение Nesterov accelerated method"
      ]
    },
    {
      "cell_type": "code",
      "metadata": {
        "id": "_4tez1BraQJs",
        "colab_type": "code",
        "outputId": "013646ae-aff2-49fe-ce8b-2fd6c2726be1",
        "colab": {
          "base_uri": "https://localhost:8080/",
          "height": 253
        }
      },
      "source": [
        "pip install git+https://github.com/amkatrutsa/liboptpy"
      ],
      "execution_count": 0,
      "outputs": [
        {
          "output_type": "stream",
          "text": [
            "Collecting git+https://github.com/amkatrutsa/liboptpy\n",
            "  Cloning https://github.com/amkatrutsa/liboptpy to /tmp/pip-req-build-nt5na7xb\n",
            "  Running command git clone -q https://github.com/amkatrutsa/liboptpy /tmp/pip-req-build-nt5na7xb\n",
            "Requirement already satisfied: numpy>=1.12 in /usr/local/lib/python3.6/dist-packages (from liboptpy==0.0.1) (1.18.3)\n",
            "Requirement already satisfied: scipy>=1.0 in /usr/local/lib/python3.6/dist-packages (from liboptpy==0.0.1) (1.4.1)\n",
            "Building wheels for collected packages: liboptpy\n",
            "  Building wheel for liboptpy (setup.py) ... \u001b[?25l\u001b[?25hdone\n",
            "  Created wheel for liboptpy: filename=liboptpy-0.0.1-cp36-none-any.whl size=11730 sha256=75510f40c449c92b9e14661680d2818b352c6aec41bb4f8a408ae2822ab85f29\n",
            "  Stored in directory: /tmp/pip-ephem-wheel-cache-vzgat6gz/wheels/8e/6e/38/60496dcf12f2c341e42d932d1403bdaaa17049556fdaba8d40\n",
            "Successfully built liboptpy\n",
            "Installing collected packages: liboptpy\n",
            "Successfully installed liboptpy-0.0.1\n"
          ],
          "name": "stdout"
        }
      ]
    },
    {
      "cell_type": "code",
      "metadata": {
        "id": "41KwUgEQadHE",
        "colab_type": "code",
        "outputId": "7d1d3af6-948b-4f19-de9b-34c2a3ffbd61",
        "colab": {
          "base_uri": "https://localhost:8080/",
          "height": 467
        }
      },
      "source": [
        "import liboptpy.unconstr_solvers as solvers\n",
        "import liboptpy.step_size as ss\n",
        "import liboptpy.restarts as restarts\n",
        "import scipy.optimize as scopt\n",
        "import cvxpy\n",
        "\n",
        "x_start, f_at_x_start, info = fmin_l_bfgs_b(func= f_and_grad_f, x0= np.zeros(number_of_features), fprime= None, \n",
        "                                           args= [server_data_file, Lambda], approx_grad= False, \n",
        "                                           bounds= [(None, None)] * number_of_features, maxiter= 20)\n",
        "    \n",
        "\n",
        "def f(x):\n",
        "    return F(x, train_data_file, Lambda)\n",
        "\n",
        "def grad_f(x):\n",
        "    return f_and_grad_f(x, train_data_file, Lambda)[1]\n",
        "\n",
        "m_dict = { \"Nesterov\": solvers.fo.AcceleratedGD(f, grad_f, ss.ConstantStepSize(1e-3)) }\n",
        "\n",
        "tol = 1e-6\n",
        "key = \"Nesterov\"\n",
        "\n",
        "\n",
        "print(\"\\t {}\".format(key))\n",
        "q = m_dict[key].solve(x_start, iterations_number, tol, disp=True)\n",
        "\n",
        "# ys = [f(x) for x in m_dict[key].get_convergence()]\n",
        "\n",
        "# for key in m_dict:\n",
        "#     print(\"\\t {}\".format(key))\n",
        "#     %timeit m_dict[key].solve(x0, max_iter, tol)\n",
        "\n",
        "\n",
        "ys_agd = []\n",
        "count = 0\n",
        "with mp.Pool(processes = num_machines) as pool:\n",
        "    for item in m_dict[key].get_convergence():\n",
        "        count += 1\n",
        "        print('Point ', count)\n",
        "        result = pool.starmap_async(F, [(item, 'data_' + str(n+1) + '.txt', Lambda) for n in range(num_machines)])\n",
        "        loss_values = result.get()\n",
        "        ys_agd.append(sum(loss_values) / num_machines)\n",
        "\n",
        "\n",
        "# xs = range(1, iterations_number+2)\n",
        "# plt.style.use('seaborn-whitegrid')\n",
        "# plt.plot(xs, ys_agd, 'o', color='green')\n",
        "# plt.xlabel(\"Number of iteration\")\n",
        "# plt.ylabel(\"f(x_k)\")"
      ],
      "execution_count": 0,
      "outputs": [
        {
          "output_type": "stream",
          "text": [
            "\t Nesterov\n",
            "Maximum iteration exceeds!\n",
            "Convergence in 19 iterations\n",
            "Function value = 0.1470718213420469\n",
            "Norm of gradient = 0.0022589893621938416\n",
            "Point  1\n",
            "Point  2\n",
            "Point  3\n",
            "Point  4\n",
            "Point  5\n",
            "Point  6\n",
            "Point  7\n",
            "Point  8\n",
            "Point  9\n",
            "Point  10\n",
            "Point  11\n",
            "Point  12\n",
            "Point  13\n",
            "Point  14\n",
            "Point  15\n",
            "Point  16\n",
            "Point  17\n",
            "Point  18\n",
            "Point  19\n",
            "Point  20\n"
          ],
          "name": "stdout"
        }
      ]
    },
    {
      "cell_type": "markdown",
      "metadata": {
        "colab_type": "text",
        "id": "-dN4hphMFysl"
      },
      "source": [
        "##Применение L-BFGS"
      ]
    },
    {
      "cell_type": "code",
      "metadata": {
        "id": "gsNZ9GmB659n",
        "colab_type": "code",
        "outputId": "f8169d0f-bbf8-4160-d546-c2d33746c24e",
        "colab": {
          "base_uri": "https://localhost:8080/",
          "height": 35
        }
      },
      "source": [
        "ys_lbfgs = []\n",
        "\n",
        "def callback_F(x):\n",
        "    with mp.Pool(processes = num_machines) as pool:\n",
        "        result = pool.starmap_async(F, [(x, 'data_' + str(n+1) + '.txt', Lambda) for n in range(num_machines)])\n",
        "        loss_values = result.get()\n",
        "        y = sum(loss_values) / num_machines\n",
        "    ys_lbfgs.append(y)\n",
        "\n",
        "\n",
        "ys_lbfgs.append(F(x_start, train_data_file, Lambda))\n",
        "\n",
        "print('step 2')\n",
        "\n",
        "x_optimal, F_at_x_optimal, info2 = fmin_l_bfgs_b(func= f_and_grad_f, x0= x_start, fprime= None, args= [train_data_file, Lambda],\n",
        "                                                 approx_grad= False, bounds= [(None, None)] * number_of_features,\n",
        "                                                 maxiter= iterations_number, callback= callback_F)\n",
        "\n",
        "\n",
        "# xs = range(1, iterations_number + 2)\n",
        "# plt.style.use('seaborn-whitegrid')\n",
        "# plt.plot(xs, ys_lbfgs, 'o', color='red');    \n",
        "# plt.xlabel(\"Number of iteration\")\n",
        "# plt.ylabel(\"f(x_k)\")"
      ],
      "execution_count": 0,
      "outputs": [
        {
          "output_type": "stream",
          "text": [
            "step 2\n"
          ],
          "name": "stdout"
        }
      ]
    },
    {
      "cell_type": "markdown",
      "metadata": {
        "id": "FLQtvm-_OYPo",
        "colab_type": "text"
      },
      "source": [
        "#Общий график"
      ]
    },
    {
      "cell_type": "code",
      "metadata": {
        "id": "4LSh8H5nOX2g",
        "colab_type": "code",
        "outputId": "09971e80-25a4-4eb5-88c9-2c64c46bdfea",
        "colab": {
          "base_uri": "https://localhost:8080/",
          "height": 311
        }
      },
      "source": [
        "x = range(iterations_number + 1)\n",
        "plt.style.use('seaborn-whitegrid')\n",
        "plt.title('Loss on iters')\n",
        "plt.xlabel(f'$iter$')\n",
        "plt.ylabel(f'$Loss$')\n",
        "plt.plot(x, ys_spag, 'o', color='red', label='SPAG')\n",
        "plt.plot(x, ys_agd, 'o', color='blue', label='AGD')\n",
        "plt.plot(x[1:], ys_lbfgs, 'o', color='green', label='L-BFGS')\n",
        "plt.legend()\n",
        "plt.savefig('3|->sampled_' + str(sampled_vectors_at_server) + '_lambda_' + str(Lambda) + '_mu_' + str(Mu) +'.png')\n",
        "print('3|->sampled_' + str(sampled_vectors_at_server) + '_lambda_' + str(Lambda) + '_mu_' + str(Mu) +'.png')\n",
        "plt.show()"
      ],
      "execution_count": 0,
      "outputs": [
        {
          "output_type": "stream",
          "text": [
            "3|->sampled_2024_lambda_1e-07_mu_1e-05.png\n"
          ],
          "name": "stdout"
        },
        {
          "output_type": "display_data",
          "data": {
            "image/png": "[encoded data removed]",
            "text/plain": [
              "<Figure size 432x288 with 1 Axes>"
            ]
          },
          "metadata": {
            "tags": []
          }
        }
      ]
    },
    {
      "cell_type": "code",
      "metadata": {
        "id": "6xhkgf2F3Tuf",
        "colab_type": "code",
        "colab": {}
      },
      "source": [
        ""
      ],
      "execution_count": 0,
      "outputs": []
    }
  ]
}